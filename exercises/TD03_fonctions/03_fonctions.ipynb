{
 "cells": [
  {
   "cell_type": "markdown",
   "metadata": {},
   "source": [
    "# Instructions Générales\n",
    "\n",
    "Ce TD est à faire en créant un fichier td3.py, que vous éditerez dans VSCode. \n",
    "Vous ne remplirez pas les cellules de ce notebook, mais vous les copierez au fur et à mesure \n",
    "dans votre fichier pour les compléter.\n",
    "\n",
    "Vous respecterez au mieux les règles d'écriture de code, en particulier chaque fonction devra avoir un **docstring** et des commentaires si nécessaire et les noms de variable seront illustratifs de leur usage. Vous utiliserez les outils de débogage (flake8, mypy, debugger, pythontutor ...) pour corriger vos bogues."
   ]
  },
  {
   "cell_type": "markdown",
   "metadata": {},
   "source": [
    "# Gestion du temps\n",
    "\n",
    "Nous allons créer un petit logiciel de gestion du temps et des dates.\n",
    "Pour cela nous aurons besoin de créer un certain nombre de fonctions utilitaires.\n",
    "\n",
    "Un temps a le format suivant: (jour: int, heure: int, minute: int, seconde: int).\n",
    "C'est un tuple de 4 éléments. Par exemple (4, 3, 13, 20) correspond à 4 jours, 3 heures, 13 minutes et 20 secondes.\n",
    "Si on a une variable temps = (4, 3, 13, 20), pour accéder au premier élément on fait temps\\[0\\] ce qui donne 4,\n",
    "le nombre de jours.\n",
    "\n",
    "Créer la fonction qui prend comme argument le temps et renvoie le nombre de seconde total correspondant à ce temps.\n",
    "Créer la fonction qui prend un nombre de secondes et renvoie le temps correspondant."
   ]
  },
  {
   "cell_type": "code",
   "execution_count": null,
   "metadata": {},
   "outputs": [],
   "source": [
    "#temps[0] : jours, temps[1]: heures, temps[2]: minutes, temps[3]: secondes\n",
    "\n",
    "def tempsEnSeconde(temps):\n",
    "    \"\"\" Renvoie la valeur en seconde de temps donné comme jour, heure, minute, seconde.\"\"\"\n",
    "    pass\n",
    "\n",
    "temps = (3,23,1,34)\n",
    "print(type(temps))\n",
    "print(tempsEnSeconde(temps))   \n",
    "\n",
    "def secondeEnTemps(seconde):\n",
    "    \"\"\"Renvoie le temps (jour, heure, minute, seconde) qui correspond au nombre de seconde passé en argument\"\"\"\n",
    "    pass\n",
    "    \n",
    "temps = secondeEnTemps(100000)\n",
    "print(temps[0],\"jours\",temps[1],\"heures\",temps[2],\"minutes\",temps[3],\"secondes\")"
   ]
  },
  {
   "cell_type": "markdown",
   "metadata": {},
   "source": [
    "Créer une fonction d'affichage d'un temps `afficheTemps`. Attention, les mots jour, heure et seconde doivent être au pluriel s'il y en a plusieurs. S'il y en a zéro, ils ne doivent pas apparaître.\n",
    "`print(message, end=\"\")` permet de ne pas sauter une ligne après un print. \n",
    "Vous pouvez écrire une fonction qui affiche un mot au pluriel ou non, appelée ensuite plusieurs fois par `afficheTemps` pour simplifier votre code.\n"
   ]
  },
  {
   "cell_type": "code",
   "execution_count": null,
   "metadata": {},
   "outputs": [],
   "source": [
    "#fonction auxiliaire ici\n",
    "\n",
    "def afficheTemps(temps):65\n",
    "    affichePluriel(\"jour\", temps[0])\n",
    "    affichePluriel(\"heure\", temps[1])\n",
    "    affichePluriel(\"minute\", temps[2])\n",
    "    affichePluriel(\"seconde\", temps[3])\n",
    "    print()\n",
    "afficheTemps((1,0,14,23))    "
   ]
  },
  {
   "cell_type": "code",
   "execution_count": 9,
   "metadata": {},
   "outputs": [
    {
     "name": "stdout",
     "output_type": "stream",
     "text": [
      "  1 jour  1 minute  23 secondes\n"
     ]
    }
   ],
   "source": [
    "def affichePluriel(mot:str, nombre:int)->None:\n",
    "    \"\"\"Affiche (ou non) un mot en fonction du parametre nombre\n",
    "    met le mot au pluriel si nécessaire\"\"\"\n",
    "    if nombre>0:\n",
    "        print(\" \", nombre, mot, end=\"\")\n",
    "\n",
    "    if nombre>1:\n",
    "            print(\"s\", end=\"\")\n",
    "\n",
    "def afficheTemps(temps:tuple)-> None:\n",
    "    \"\"\"Affiche le tupple tempssous la forme:\n",
    "    X jour(s), X heure(s), X minutes, X seconde(s)\"\"\"\n",
    "    affichePluriel(\"jour\", temps[0])\n",
    "    affichePluriel(\"heure\", temps[1])\n",
    "    affichePluriel(\"minute\", temps[2])\n",
    "    affichePluriel(\"seconde\", temps[3])\n",
    "    print()\n",
    "afficheTemps((1,0,1,23))"
   ]
  },
  {
   "cell_type": "markdown",
   "metadata": {},
   "source": [
    "Ecrire une fonction qui demande à l'utilisateur de rentrer un nombre de jours, d'heures, de minutes et\n",
    "de secondes et qui renvoie un temps. Attention, si l'entrée utilisateur n'est pas correcte, par exemple 80 minutes,\n",
    "afficher un message d'erreur et s'arrêter.\n",
    "\n",
    "(Optionnel) Au lieu d'arêter le programme, demander de rentrer une nouvelle valeur, tant que \n",
    "ce n'est pas une valeur correcte."
   ]
  },
  {
   "cell_type": "code",
   "execution_count": 10,
   "metadata": {},
   "outputs": [],
   "source": [
    "def demandeTemps()->tuple:\n",
    "    \"\"\"Demande à l'utilisateur un nombre de jours, d'heures, de\n",
    "    minutes et desecondes et les renvoie sous la forme d'un tuple de temps\"\"\"\n",
    "    jours = -1\n",
    "    heures = -1\n",
    "    minutes = -1\n",
    "    secondes = -1\n",
    "    while (jours < 0):\n",
    "        jours = int(input(\"entrez un nombre de jours\"))\n",
    "    while (heures<0) or (heures >= 24):\n",
    "        heures = int(input(\"Entrez un nombre d'heures\"))\n",
    "    while (minutes <0) or (heures >= 60):\n",
    "        minutes = int(input(\"Entrez un nombre de minutes\"))\n",
    "    while (secondes<0) or (secondes >= 60):\n",
    "        secondes = int(input(\"Entrez un nombre de secondes\"))\n",
    "\n",
    "    temps=(jours,heures,minutes,secondes)\n",
    "    return temps"
   ]
  },
  {
   "cell_type": "markdown",
   "metadata": {},
   "source": [
    "On veut être capable d'additionner deux temps. Donner une fonction qui fait ce calcul,\n",
    "en utilisant les fonctions précédentes."
   ]
  },
  {
   "cell_type": "code",
   "execution_count": 17,
   "metadata": {},
   "outputs": [
    {
     "ename": "NameError",
     "evalue": "name 'secondeEnTemps' is not defined",
     "output_type": "error",
     "traceback": [
      "\u001b[1;31m---------------------------------------------------------------------------\u001b[0m",
      "\u001b[1;31mNameError\u001b[0m                                 Traceback (most recent call last)",
      "\u001b[1;32mc:\\Users\\As33\\Desktop\\L1 Bi\\Info\\Projet github vscode\\l1-python\\exercises\\TD03_fonctions\\03_fonctions.ipynb Cellule 10\u001b[0m in \u001b[0;36m<cell line: 4>\u001b[1;34m()\u001b[0m\n\u001b[0;32m      <a href='vscode-notebook-cell:/c%3A/Users/As33/Desktop/L1%20Bi/Info/Projet%20github%20vscode/l1-python/exercises/TD03_fonctions/03_fonctions.ipynb#X11sZmlsZQ%3D%3D?line=1'>2</a>\u001b[0m     \u001b[39m\"\"\"Retourne la somme des 2 temps passés en paramètres\"\"\"\u001b[39;00m\n\u001b[0;32m      <a href='vscode-notebook-cell:/c%3A/Users/As33/Desktop/L1%20Bi/Info/Projet%20github%20vscode/l1-python/exercises/TD03_fonctions/03_fonctions.ipynb#X11sZmlsZQ%3D%3D?line=2'>3</a>\u001b[0m     \u001b[39mreturn\u001b[39;00m secondeEnTemps(tempsEnSeconde(temps1)\u001b[39m+\u001b[39mtempsEnSeconde(temps2))\n\u001b[1;32m----> <a href='vscode-notebook-cell:/c%3A/Users/As33/Desktop/L1%20Bi/Info/Projet%20github%20vscode/l1-python/exercises/TD03_fonctions/03_fonctions.ipynb#X11sZmlsZQ%3D%3D?line=3'>4</a>\u001b[0m sommeTemps((\u001b[39m2\u001b[39;49m,\u001b[39m3\u001b[39;49m,\u001b[39m4\u001b[39;49m,\u001b[39m25\u001b[39;49m),(\u001b[39m5\u001b[39;49m,\u001b[39m22\u001b[39;49m,\u001b[39m57\u001b[39;49m,\u001b[39m1\u001b[39;49m))\n",
      "\u001b[1;32mc:\\Users\\As33\\Desktop\\L1 Bi\\Info\\Projet github vscode\\l1-python\\exercises\\TD03_fonctions\\03_fonctions.ipynb Cellule 10\u001b[0m in \u001b[0;36msommeTemps\u001b[1;34m(temps1, temps2)\u001b[0m\n\u001b[0;32m      <a href='vscode-notebook-cell:/c%3A/Users/As33/Desktop/L1%20Bi/Info/Projet%20github%20vscode/l1-python/exercises/TD03_fonctions/03_fonctions.ipynb#X11sZmlsZQ%3D%3D?line=0'>1</a>\u001b[0m \u001b[39mdef\u001b[39;00m \u001b[39msommeTemps\u001b[39m(temps1: \u001b[39mtuple\u001b[39m,temps2:\u001b[39mtuple\u001b[39m):\n\u001b[0;32m      <a href='vscode-notebook-cell:/c%3A/Users/As33/Desktop/L1%20Bi/Info/Projet%20github%20vscode/l1-python/exercises/TD03_fonctions/03_fonctions.ipynb#X11sZmlsZQ%3D%3D?line=1'>2</a>\u001b[0m     \u001b[39m\"\"\"Retourne la somme des 2 temps passés en paramètres\"\"\"\u001b[39;00m\n\u001b[1;32m----> <a href='vscode-notebook-cell:/c%3A/Users/As33/Desktop/L1%20Bi/Info/Projet%20github%20vscode/l1-python/exercises/TD03_fonctions/03_fonctions.ipynb#X11sZmlsZQ%3D%3D?line=2'>3</a>\u001b[0m     \u001b[39mreturn\u001b[39;00m secondeEnTemps(tempsEnSeconde(temps1)\u001b[39m+\u001b[39mtempsEnSeconde(temps2))\n",
      "\u001b[1;31mNameError\u001b[0m: name 'secondeEnTemps' is not defined"
     ]
    }
   ],
   "source": [
    "def sommeTemps(temps1: tuple,temps2:tuple):\n",
    "    \"\"\"Retourne la somme des 2 temps passés en paramètres\"\"\"\n",
    "    return secondeEnTemps(tempsEnSeconde(temps1)+tempsEnSeconde(temps2))\n",
    "sommeTemps((2,3,4,25),(5,22,57,1))"
   ]
  },
  {
   "cell_type": "markdown",
   "metadata": {},
   "source": [
    "On veut maintenant calculer un pourcentage d'un temps. Par exemple, 20% de\n",
    "2 jours et 36 minutes correspond à 9 heures, 43 minutes et 12 secondes.\n",
    "\n",
    "Implémenter la fonction `proportionTemps` puis appeler cette fonction en échangeant l'ordre des arguments mais en les nommant."
   ]
  },
  {
   "cell_type": "code",
   "execution_count": 18,
   "metadata": {},
   "outputs": [
    {
     "ename": "NameError",
     "evalue": "name 'secondeEnTemps' is not defined",
     "output_type": "error",
     "traceback": [
      "\u001b[1;31m---------------------------------------------------------------------------\u001b[0m",
      "\u001b[1;31mNameError\u001b[0m                                 Traceback (most recent call last)",
      "\u001b[1;32mc:\\Users\\As33\\Desktop\\L1 Bi\\Info\\Projet github vscode\\l1-python\\exercises\\TD03_fonctions\\03_fonctions.ipynb Cellule 12\u001b[0m in \u001b[0;36m<cell line: 4>\u001b[1;34m()\u001b[0m\n\u001b[0;32m      <a href='vscode-notebook-cell:/c%3A/Users/As33/Desktop/L1%20Bi/Info/Projet%20github%20vscode/l1-python/exercises/TD03_fonctions/03_fonctions.ipynb#X13sZmlsZQ%3D%3D?line=1'>2</a>\u001b[0m     \u001b[39m\"\"\"Retourne un temps egal au temps passé en paramètre après application de la proportion\"\"\"\u001b[39;00m\n\u001b[0;32m      <a href='vscode-notebook-cell:/c%3A/Users/As33/Desktop/L1%20Bi/Info/Projet%20github%20vscode/l1-python/exercises/TD03_fonctions/03_fonctions.ipynb#X13sZmlsZQ%3D%3D?line=2'>3</a>\u001b[0m     \u001b[39mreturn\u001b[39;00m secondeEnTemps(\u001b[39mint\u001b[39m(tempsEnSeconde(temps)\u001b[39m*\u001b[39mproportion))\n\u001b[1;32m----> <a href='vscode-notebook-cell:/c%3A/Users/As33/Desktop/L1%20Bi/Info/Projet%20github%20vscode/l1-python/exercises/TD03_fonctions/03_fonctions.ipynb#X13sZmlsZQ%3D%3D?line=3'>4</a>\u001b[0m afficheTemps(proportionTemps((\u001b[39m2\u001b[39;49m,\u001b[39m0\u001b[39;49m,\u001b[39m36\u001b[39;49m,\u001b[39m0\u001b[39;49m),\u001b[39m0.2\u001b[39;49m))\n",
      "\u001b[1;32mc:\\Users\\As33\\Desktop\\L1 Bi\\Info\\Projet github vscode\\l1-python\\exercises\\TD03_fonctions\\03_fonctions.ipynb Cellule 12\u001b[0m in \u001b[0;36mproportionTemps\u001b[1;34m(temps, proportion)\u001b[0m\n\u001b[0;32m      <a href='vscode-notebook-cell:/c%3A/Users/As33/Desktop/L1%20Bi/Info/Projet%20github%20vscode/l1-python/exercises/TD03_fonctions/03_fonctions.ipynb#X13sZmlsZQ%3D%3D?line=0'>1</a>\u001b[0m \u001b[39mdef\u001b[39;00m \u001b[39mproportionTemps\u001b[39m(temps,proportion):\n\u001b[0;32m      <a href='vscode-notebook-cell:/c%3A/Users/As33/Desktop/L1%20Bi/Info/Projet%20github%20vscode/l1-python/exercises/TD03_fonctions/03_fonctions.ipynb#X13sZmlsZQ%3D%3D?line=1'>2</a>\u001b[0m     \u001b[39m\"\"\"Retourne un temps egal au temps passé en paramètre après application de la proportion\"\"\"\u001b[39;00m\n\u001b[1;32m----> <a href='vscode-notebook-cell:/c%3A/Users/As33/Desktop/L1%20Bi/Info/Projet%20github%20vscode/l1-python/exercises/TD03_fonctions/03_fonctions.ipynb#X13sZmlsZQ%3D%3D?line=2'>3</a>\u001b[0m     \u001b[39mreturn\u001b[39;00m secondeEnTemps(\u001b[39mint\u001b[39m(tempsEnSeconde(temps)\u001b[39m*\u001b[39mproportion))\n",
      "\u001b[1;31mNameError\u001b[0m: name 'secondeEnTemps' is not defined"
     ]
    }
   ],
   "source": [
    "def proportionTemps(temps,proportion):\n",
    "    \"\"\"Retourne un temps egal au temps passé en paramètre après application de la proportion\"\"\"\n",
    "    return secondeEnTemps(int(tempsEnSeconde(temps)*proportion))\n",
    "afficheTemps(proportionTemps((2,0,36,0),0.2))\n",
    "#appeler la fonction en échangeant l'ordre des arguments"
   ]
  },
  {
   "cell_type": "markdown",
   "metadata": {},
   "source": [
    "On veut maintenant afficher un temps sous forme de date, en supposant \n",
    "que le temps 0 est le 1 janvier 1970 à 00:00:00.\n",
    "\n",
    "* Implémenter une fonction `tempsEnDate`qui donne la date sous la forme (année, jour, heure, minute, seconde).\n",
    "* Implémenter la fonction `afficheDate`qui affiche la date. \n",
    "* (Optionnel) Gérer également les mois."
   ]
  },
  {
   "cell_type": "code",
   "execution_count": null,
   "metadata": {},
   "outputs": [],
   "source": [
    "def tempsEnDate(temps):\n",
    "    pass\n",
    "\n",
    "def afficheDate(date = -1):\n",
    "    pass\n",
    "    \n",
    "temps = secondeEnTemps(1000000000)\n",
    "afficheTemps(temps)\n",
    "afficheDate(tempsEnDate(temps))\n",
    "afficheDate()"
   ]
  },
  {
   "cell_type": "code",
   "execution_count": null,
   "metadata": {},
   "outputs": [],
   "source": [
    "def tempsEnDate(temps: tuple)->tuple:\n",
    "    annee=1970+temps[0]//365\n",
    "    numero_du_jour=1+temps[0]%365\n",
    "    return(annee, numero_du_jour, temps[1],temps[2], temps[3])\n",
    "\n",
    "def afficheDate(date: tuple= ())->None:\n",
    "    \"\"\"Affiche la date passée en paramètre.\n",
    "    Si aucune date n'est passée affiche la date du jour. Ne gère pas les mois\"\"\"\n",
    "    if len(date)==0:\n",
    "        date=tempsEnDate(secondeEnTemps(int(time.time())))\n",
    "    print(\"jour numéro\",date[1], \"de l'année\",date[0], \"à\", str(date[2])+\":\"+str(date[4]))\n",
    "    \n",
    "temps = secondeEnTemps(1000000000)\n",
    "afficheTemps(temps)\n",
    "afficheDate(tempsEnDate(temps))\n",
    "afficheDate()"
   ]
  },
  {
   "cell_type": "markdown",
   "metadata": {},
   "source": [
    "Il existe des fonctions dans la librairie `time` pour la gestion du temps. En particulier, il existe\n",
    "une fonction `time` qui donne le temps écoulé depuis 1970 en secondes. \n",
    "La trouver avec la [documentation python](https://docs.python.org/fr/3/library/time.html#module-time) et la tester en utilisant `afficheDate`. \n",
    "Tester de la même manière la fonction `time.gmtime` qui réalise une tâche similaire à `tempsEnDate`.\n",
    "Que constatez vous ?"
   ]
  },
  {
   "cell_type": "code",
   "execution_count": null,
   "metadata": {},
   "outputs": [],
   "source": [
    "#tester ici les fonctions de la librairie time"
   ]
  },
  {
   "cell_type": "markdown",
   "metadata": {},
   "source": [
    "Attention, tous les 4 ans les années sont bisextiles (un jour de plus) sauf les multiples de 100 qui ne sont pas des multiples de 400.\n",
    "Donner un code qui prend un nombre de jours et affiche toutes les années bisextiles depuis le 1er janvier 1970 à 00:00:00 jusqu'à la fin de ces jours."
   ]
  },
  {
   "cell_type": "code",
   "execution_count": null,
   "metadata": {},
   "outputs": [],
   "source": [
    "def estBisextile(annee:int)->bool:\n",
    "    returne annee%4==0 and (annee%100!=0 or annee%400==0)\n",
    "def estBisextile(annee:int)->None:\n",
    "    annee=1970\n",
    "    while(jours>=365):\n",
    "        if estBisextile(annee):\n",
    "            print(\"L'année\"+str(annee)+\"est bisextile\")\n",
    "            jours-=366\n",
    "        else:\n",
    "            jours-=365\n",
    "        annee+=1\n",
    "bisextile(20000)"
   ]
  },
  {
   "cell_type": "code",
   "execution_count": 2,
   "metadata": {},
   "outputs": [
    {
     "name": "stdout",
     "output_type": "stream",
     "text": [
      "365\n"
     ]
    }
   ],
   "source": [
    "print(365%400)"
   ]
  },
  {
   "cell_type": "code",
   "execution_count": null,
   "metadata": {},
   "outputs": [],
   "source": [
    "def bisextile(jour):\n",
    "    pass\n",
    "if tempsEnSeconde%400\n",
    "        \n",
    "bisextile(20000)"
   ]
  },
  {
   "cell_type": "markdown",
   "metadata": {},
   "source": [
    "Implémenter une fonction `nombreBisextile` qui calcule le nombre d'années bisextiles entre le 1er janvier 1970 et le nombre de jour donnés.\n",
    "Utilisez-la pour implémenter une fonction `tempsEnDateBisextile` qui fait la même chose que `tempsEnDate` mais en prenant en compte les années bisextiles."
   ]
  },
  {
   "cell_type": "code",
   "execution_count": 2,
   "metadata": {},
   "outputs": [
    {
     "name": "stderr",
     "output_type": "stream",
     "text": [
      "Traceback (most recent call last):\n",
      "  File \"_pydevd_bundle/pydevd_cython.pyx\", line 1078, in _pydevd_bundle.pydevd_cython.PyDBFrame.trace_dispatch\n",
      "  File \"_pydevd_bundle/pydevd_cython.pyx\", line 297, in _pydevd_bundle.pydevd_cython.PyDBFrame.do_wait_suspend\n",
      "  File \"c:\\Users\\As33\\miniconda3\\envs\\l1-python\\lib\\site-packages\\debugpy\\_vendored\\pydevd\\pydevd.py\", line 1976, in do_wait_suspend\n",
      "    keep_suspended = self._do_wait_suspend(thread, frame, event, arg, suspend_type, from_this_thread, frames_tracker)\n",
      "  File \"c:\\Users\\As33\\miniconda3\\envs\\l1-python\\lib\\site-packages\\debugpy\\_vendored\\pydevd\\pydevd.py\", line 2011, in _do_wait_suspend\n",
      "    time.sleep(0.01)\n",
      "KeyboardInterrupt\n"
     ]
    },
    {
     "ename": "KeyboardInterrupt",
     "evalue": "",
     "output_type": "error",
     "traceback": [
      "\u001b[1;31m---------------------------------------------------------------------------\u001b[0m",
      "\u001b[1;31mKeyboardInterrupt\u001b[0m                         Traceback (most recent call last)",
      "\u001b[1;32mc:\\Users\\As33\\Desktop\\L1 Bi\\Info\\Projet github vscode\\l1-python\\exercises\\TD03_fonctions\\03_fonctions.ipynb Cellule 21\u001b[0m in \u001b[0;36m<cell line: 1>\u001b[1;34m()\u001b[0m\n\u001b[1;32m----> <a href='vscode-notebook-cell:/c%3A/Users/As33/Desktop/L1%20Bi/Info/Projet%20github%20vscode/l1-python/exercises/TD03_fonctions/03_fonctions.ipynb#X26sZmlsZQ%3D%3D?line=0'>1</a>\u001b[0m \u001b[39mdef\u001b[39;00m \u001b[39mnombreBisextile\u001b[39m(jour):\n\u001b[0;32m      <a href='vscode-notebook-cell:/c%3A/Users/As33/Desktop/L1%20Bi/Info/Projet%20github%20vscode/l1-python/exercises/TD03_fonctions/03_fonctions.ipynb#X26sZmlsZQ%3D%3D?line=1'>2</a>\u001b[0m     \u001b[39mpass\u001b[39;00m\n\u001b[0;32m      <a href='vscode-notebook-cell:/c%3A/Users/As33/Desktop/L1%20Bi/Info/Projet%20github%20vscode/l1-python/exercises/TD03_fonctions/03_fonctions.ipynb#X26sZmlsZQ%3D%3D?line=3'>4</a>\u001b[0m \u001b[39mdef\u001b[39;00m \u001b[39mtempsEnDateBisextile\u001b[39m(temps):\n",
      "File \u001b[1;32m_pydevd_bundle/pydevd_cython.pyx:1363\u001b[0m, in \u001b[0;36m_pydevd_bundle.pydevd_cython.SafeCallWrapper.__call__\u001b[1;34m()\u001b[0m\n",
      "File \u001b[1;32m_pydevd_bundle/pydevd_cython.pyx:1740\u001b[0m, in \u001b[0;36m_pydevd_bundle.pydevd_cython.ThreadTracer.__call__\u001b[1;34m()\u001b[0m\n",
      "File \u001b[1;32m_pydevd_bundle/pydevd_cython.pyx:1087\u001b[0m, in \u001b[0;36m_pydevd_bundle.pydevd_cython.PyDBFrame.trace_dispatch\u001b[1;34m()\u001b[0m\n",
      "File \u001b[1;32m_pydevd_bundle/pydevd_cython.pyx:1078\u001b[0m, in \u001b[0;36m_pydevd_bundle.pydevd_cython.PyDBFrame.trace_dispatch\u001b[1;34m()\u001b[0m\n",
      "File \u001b[1;32m_pydevd_bundle/pydevd_cython.pyx:297\u001b[0m, in \u001b[0;36m_pydevd_bundle.pydevd_cython.PyDBFrame.do_wait_suspend\u001b[1;34m()\u001b[0m\n",
      "File \u001b[1;32mc:\\Users\\As33\\miniconda3\\envs\\l1-python\\lib\\site-packages\\debugpy\\_vendored\\pydevd\\pydevd.py:1976\u001b[0m, in \u001b[0;36mPyDB.do_wait_suspend\u001b[1;34m(self, thread, frame, event, arg, exception_type)\u001b[0m\n\u001b[0;32m   1973\u001b[0m             from_this_thread\u001b[39m.\u001b[39mappend(frame_custom_thread_id)\n\u001b[0;32m   1975\u001b[0m     \u001b[39mwith\u001b[39;00m \u001b[39mself\u001b[39m\u001b[39m.\u001b[39m_threads_suspended_single_notification\u001b[39m.\u001b[39mnotify_thread_suspended(thread_id, stop_reason):\n\u001b[1;32m-> 1976\u001b[0m         keep_suspended \u001b[39m=\u001b[39m \u001b[39mself\u001b[39;49m\u001b[39m.\u001b[39;49m_do_wait_suspend(thread, frame, event, arg, suspend_type, from_this_thread, frames_tracker)\n\u001b[0;32m   1978\u001b[0m frames_list \u001b[39m=\u001b[39m \u001b[39mNone\u001b[39;00m\n\u001b[0;32m   1980\u001b[0m \u001b[39mif\u001b[39;00m keep_suspended:\n\u001b[0;32m   1981\u001b[0m     \u001b[39m# This means that we should pause again after a set next statement.\u001b[39;00m\n",
      "File \u001b[1;32mc:\\Users\\As33\\miniconda3\\envs\\l1-python\\lib\\site-packages\\debugpy\\_vendored\\pydevd\\pydevd.py:2011\u001b[0m, in \u001b[0;36mPyDB._do_wait_suspend\u001b[1;34m(self, thread, frame, event, arg, suspend_type, from_this_thread, frames_tracker)\u001b[0m\n\u001b[0;32m   2008\u001b[0m         \u001b[39mself\u001b[39m\u001b[39m.\u001b[39m_call_mpl_hook()\n\u001b[0;32m   2010\u001b[0m     \u001b[39mself\u001b[39m\u001b[39m.\u001b[39mprocess_internal_commands()\n\u001b[1;32m-> 2011\u001b[0m     time\u001b[39m.\u001b[39;49msleep(\u001b[39m0.01\u001b[39;49m)\n\u001b[0;32m   2013\u001b[0m \u001b[39mself\u001b[39m\u001b[39m.\u001b[39mcancel_async_evaluation(get_current_thread_id(thread), \u001b[39mstr\u001b[39m(\u001b[39mid\u001b[39m(frame)))\n\u001b[0;32m   2015\u001b[0m \u001b[39m# process any stepping instructions\u001b[39;00m\n",
      "\u001b[1;31mKeyboardInterrupt\u001b[0m: "
     ]
    }
   ],
   "source": [
    "def nombreBisextile(jour):\n",
    "    pass\n",
    "\n",
    "def tempsEnDateBisextile(temps):\n",
    "    pass\n",
    "   \n",
    "temps = secondeEnTemps(1000000000)\n",
    "afficheTemps(temps)\n",
    "afficheDate(tempsEnDateBisextile(temps))"
   ]
  },
  {
   "cell_type": "code",
   "execution_count": null,
   "metadata": {},
   "outputs": [],
   "source": [
    "def estBisextile(annee:int)->bool:\n",
    "    returne annee%4==0 and (annee%100!=0 or annee%400==0)\n",
    "def estBisextile(annee:int)->None:\n",
    "    annee=1970\n",
    "    while(jours>=365):\n",
    "        if estBisextile(annee):\n",
    "            print(\"L'année\"+str(annee)+\"est bisextile\")\n",
    "            jours-=366\n",
    "        else:\n",
    "            jours-=365\n",
    "        annee+=1\n",
    "bisextile(20000)"
   ]
  },
  {
   "cell_type": "markdown",
   "metadata": {},
   "source": [
    "Ajouter des valeurs par défaut dans le code de `afficheDate` afin de pouvoir ommettre\n",
    "l'argument de ces fonctions. Dans ce cas là, on affichera la date actuelle en utilisant la fonction `time`."
   ]
  },
  {
   "cell_type": "markdown",
   "metadata": {},
   "source": [
    "On va maintenant inspecter notre code pour améliorer sa qualité:\n",
    "\n",
    "* Regarder tous les warnings donnés par flake8 et essayer de les régler.\n",
    "* Utiliser le debugger (F5) pour étudier le fonctionnement de votre fonction nombreBisextile.\n",
    "* Mettre les annotations de type des arguments et du retour de la fonction pour nombreBisextile et une autre fonction de votre choix. Vérifier avec mypy que tout fonctionne bien."
   ]
  },
  {
   "cell_type": "markdown",
   "metadata": {},
   "source": [
    "Donner une fonction qui vérifie la charge horaire d'un employé, donnée sous forme d'une liste de temps travaillé chaque semaine dans un mois. Il ne faut pas dépasser 48h par semaine et 140h par mois (qu'on considère ici de 4 semaines).\n",
    "\n",
    "(Optionnel) S'adapter à une liste qui peut contenir plusieurs mois."
   ]
  },
  {
   "cell_type": "code",
   "execution_count": null,
   "metadata": {},
   "outputs": [],
   "source": [
    "def verifie(liste_temps):\n",
    "    pass\n",
    "\n",
    "\n",
    "liste_temps = [[1,2,39,34],[0,1,9,4],[0,29,39,51],[0,31,13,46]]\n",
    "verifie(liste_temps)"
   ]
  }
 ],
 "metadata": {
  "kernelspec": {
   "display_name": "Python 3.10.4 ('l1-python')",
   "language": "python",
   "name": "python3"
  },
  "language_info": {
   "codemirror_mode": {
    "name": "ipython",
    "version": 3
   },
   "file_extension": ".py",
   "mimetype": "text/x-python",
   "name": "python",
   "nbconvert_exporter": "python",
   "pygments_lexer": "ipython3",
   "version": "3.10.4"
  },
  "vscode": {
   "interpreter": {
    "hash": "8e4613f5fe6a463b6bd835d6bcbd031fc94d81a16a6471be228a932ee47c1f4d"
   }
  }
 },
 "nbformat": 4,
 "nbformat_minor": 4
}
